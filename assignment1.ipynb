{
 "cells": [
  {
   "cell_type": "code",
   "execution_count": 1,
   "metadata": {},
   "outputs": [],
   "source": [
    "#Let us import the csv file using the HDFS cluster\n",
    "downloads_RDD = sc.textFile(\"hdfs://localhost:9000/inp77/*.csv\")\n",
    "downloads_RDD = downloads_RDD.map(lambda x: x.split(',')) #we are splitting the values by comma(,)\n",
    "def remove_quotation(x):\n",
    "    return([xx.replace('\"', '') for xx in x]) #we are replacing the \"->null\n",
    "downloads_RDD = downloads_RDD.map(remove_quotation) #accessing the function to remove double quote\n",
    "#Now \"downloads_RDD\" is set for analytics"
   ]
  },
  {
   "cell_type": "code",
   "execution_count": 2,
   "metadata": {},
   "outputs": [
    {
     "name": "stdout",
     "output_type": "stream",
     "text": [
      "Number of downloads for package ggplot2 on both day:\n",
      "38729\n",
      "Number of downloads for package ggplot2 on 2019-03-01:\n",
      "25385\n",
      "Number of downloads for package ggplot2 on 2019-03-02:\n",
      "13344\n"
     ]
    }
   ],
   "source": [
    "#1. Show number of downloads for package ggplot2 for each day (the 1st and 2nd of March).\n",
    "\n",
    "def onef(x):\n",
    "    return \"ggplot2\" in x\n",
    "oneque=downloads_RDD.filter(onef) #fetching rows which have ggplot2\n",
    "def oneone(x):\n",
    "    return \"2019-03-01\" in x\n",
    "oneque1=oneque.filter(oneone) #fetching rows which have the date \"2019-03-01\" from the filtered Rdd which has ggplot2\n",
    "def onetwo(x):\n",
    "    return \"2019-03-02\" in x\n",
    "oneque2=oneque.filter(onetwo) #fetching rows which have the date \"2019-03-02\" from the filtered Rdd which has ggplot2\n",
    "print('Number of downloads for package ggplot2 on both day:\\n%s'%(oneque.count())) #both days\n",
    "print('Number of downloads for package ggplot2 on 2019-03-01:\\n%s'%(oneque1.count())) #(\"2019-03-01\")\n",
    "print('Number of downloads for package ggplot2 on 2019-03-02:\\n%s'%(oneque2.count())) #(\"2019-03-02\")\n"
   ]
  },
  {
   "cell_type": "code",
   "execution_count": 3,
   "metadata": {},
   "outputs": [
    {
     "name": "stdout",
     "output_type": "stream",
     "text": [
      "Highest number of downloads by a country on both days:\n",
      "[('US', 1776597)]\n"
     ]
    }
   ],
   "source": [
    "#2)Highest number of downloads by a country - on both days.\n",
    "\n",
    "twoque = downloads_RDD.map(lambda x: (x[8], 1)) #fetching the countries\n",
    "twoque = twoque.reduceByKey(lambda a,b: a+b) #fetching the frequencies of the countries\n",
    "twoque=twoque.sortBy(lambda a: a[1], ascending=False).take(1) #fetching the top value\n",
    "print(\"Highest number of downloads by a country on both days:\\n%s\"%(twoque)) #printing the resulted value\n"
   ]
  },
  {
   "cell_type": "code",
   "execution_count": 4,
   "metadata": {},
   "outputs": [
    {
     "name": "stdout",
     "output_type": "stream",
     "text": [
      "[('size', 'package'), ('size', 'package'), ('999989', 'BClustLonG'), ('999983', 'BClustLonG'), ('999983', 'BClustLonG'), ('999983', 'BClustLonG'), ('999983', 'BClustLonG'), ('999983', 'BClustLonG'), ('999983', 'BClustLonG'), ('999940', 'data.table'), ('999929', 'RcppEigen'), ('999929', 'RcppArmadillo')]\n"
     ]
    }
   ],
   "source": [
    "#3)how top 10 largest sized packages.\n",
    "\n",
    "threeque = downloads_RDD.map(lambda x: (x[2])) #fetching the package size\n",
    "threeque1=downloads_RDD.map(lambda x: (x[6])) #fetching the package name\n",
    "threeque=threeque.zip(threeque1) #zipping both size and name\n",
    "threeque = threeque.sortBy(lambda a: a[0], ascending=False).take(12) #sorting in descending order\n",
    "print(threeque)\n",
    "\n",
    "\n"
   ]
  },
  {
   "cell_type": "code",
   "execution_count": 5,
   "metadata": {},
   "outputs": [
    {
     "name": "stdout",
     "output_type": "stream",
     "text": [
      "top 10 most popular packages on 2nd of March:\n",
      "[('rlang', 19600), ('Rcpp', 18384), ('tibble', 16290), ('pillar', 14957), ('yaml', 14630), ('openssl', 14407), ('stringr', 14112), ('R6', 13965), ('fansi', 13796), ('cli', 13678)]\n"
     ]
    }
   ],
   "source": [
    "#4)What were the top 10 most popular packages on 2nd of March?\n",
    "\n",
    "def fourfunc(x): #function for fetching 2nd of march data's\n",
    "    return \"2019-03-02\" in x \n",
    "fourque=downloads_RDD.filter(fourfunc) #accessing function\n",
    "fourque = fourque.map(lambda x: (x[6], 1)) #fetching package column\n",
    "fourque = fourque.reduceByKey(lambda a,b: a+b) #adding the frequencies\n",
    "fourque=fourque.sortBy(lambda a: a[1], ascending=False).take(10) #fetching top 10 packages of 2nd march\n",
    "print(\"top 10 most popular packages on 2nd of March:\")\n",
    "print(fourque)\n"
   ]
  },
  {
   "cell_type": "code",
   "execution_count": 6,
   "metadata": {},
   "outputs": [
    {
     "name": "stdout",
     "output_type": "stream",
     "text": [
      "Most OS used for the popular package rlang is mingw32(BOTH DAYS)\n"
     ]
    }
   ],
   "source": [
    "#5)What OS is used for downloading the most popular package? - on both days.\n",
    "\n",
    "fiveque = downloads_RDD.map(lambda x: (x[6], 1)) #fetching the most popular package\n",
    "fiveque = fiveque.reduceByKey(lambda a,b: a+b) #adding the frequencies\n",
    "fiveque=fiveque.sortBy(lambda a: a[1], ascending=False).take(1) #sorting the frequencies\n",
    "fiveq=fiveque[0][0] #pulling out popular package name\n",
    "def fivefunc(x):\n",
    "    return fiveq in x #fetching the package values alone\n",
    "fiveque=downloads_RDD.filter(fivefunc) #accessing the function for that particular package\n",
    "fiveque = fiveque.map(lambda x: (x[5], 1)) #finding the os used in that package\n",
    "fiveque = fiveque.reduceByKey(lambda a,b: a+b) #finding os frequency\n",
    "fiveque=fiveque.sortBy(lambda a: a[1], ascending=False).take(1) #sorting\n",
    "print(\"Most OS used for the popular package %s is %s(BOTH DAYS)\"%(fiveq,fiveque[0][0])) #printing the first os for poplular package"
   ]
  },
  {
   "cell_type": "code",
   "execution_count": 7,
   "metadata": {},
   "outputs": [
    {
     "name": "stdout",
     "output_type": "stream",
     "text": [
      "Popular package in Ireland is:\n",
      "[('rlang', 51), ('openssl', 51)]\n"
     ]
    }
   ],
   "source": [
    "#6)What is the most popular package in Ireland?\n",
    "\n",
    "def sixfunc(x):\n",
    "    return \"IR\" in x #fetching the Ireland country data's\n",
    "sixque=downloads_RDD.filter(sixfunc) #accessing function\n",
    "sixque = sixque.map(lambda x: (x[6], 1)) #fetching package rows\n",
    "sixque = sixque.reduceByKey(lambda a,b: a+b) #frequency\n",
    "sixque=sixque.sortBy(lambda a: a[1], ascending=False).take(2) #fetching two values since both have same frequencies\n",
    "print(\"Popular package in Ireland is:\\n%s\"%(sixque))\n"
   ]
  },
  {
   "cell_type": "code",
   "execution_count": 8,
   "metadata": {},
   "outputs": [
    {
     "name": "stdout",
     "output_type": "stream",
     "text": [
      "highest number of downloads by a single machine IPID is :8\n",
      "OS of IPID 8 is:linux-gnu\n"
     ]
    }
   ],
   "source": [
    "#7)What is the highest number of downloads by a single machine? What OS it has? \n",
    "\n",
    "sevenque = downloads_RDD.map(lambda x: (x[9], 1)) #fetching the single machine user\n",
    "sevenque = sevenque.reduceByKey(lambda a,b: a+b) #frequency\n",
    "sevenque=sevenque.sortBy(lambda a: a[1], ascending=False).take(1) #fetching the highest number of downloaded by a single machine\n",
    "seven=sevenque[0][0] #fetching the value of single machine\n",
    "def sevenfunc(x):\n",
    "    return seven in x\n",
    "sevenque=downloads_RDD.filter(sevenfunc) #acessing function to fetch that single user data's\n",
    "sevenque=sevenque.take(1) #fetching the os of that single machine\n",
    "print(\"highest number of downloads by a single machine IPID is :%s\"%(seven)) #printing the single machine\n",
    "print(\"OS of IPID %s is:%s\"%(seven,sevenque[0][5])) #printing the os name"
   ]
  },
  {
   "cell_type": "code",
   "execution_count": 9,
   "metadata": {},
   "outputs": [
    {
     "name": "stdout",
     "output_type": "stream",
     "text": [
      "[('mingw32', 2000498)] OS is most popular among the R programmers\n"
     ]
    }
   ],
   "source": [
    "#8)What OS is most popular among the R programmers?\n",
    "\n",
    "eightque = downloads_RDD.map(lambda x: (x[5], 1)) #fetching list of os\n",
    "eightque = eightque.reduceByKey(lambda a,b: a+b) #finding frequency\n",
    "eightque=eightque.sortBy(lambda a: a[1], ascending=False).take(1) #fetching first values\n",
    "print(\"%s OS is most popular among the R programmers\"%(eightque)) "
   ]
  },
  {
   "cell_type": "code",
   "execution_count": 10,
   "metadata": {},
   "outputs": [
    {
     "name": "stdout",
     "output_type": "stream",
     "text": [
      "Number of R users still use 32 bit machines:153963\n"
     ]
    }
   ],
   "source": [
    "#9)How many R users still use 32 bit machines?\n",
    "\n",
    "def ninefunc(x):\n",
    "    return \"i386\" in x\n",
    "nineque=downloads_RDD.filter(ninefunc) #accessing function for fetching 32 bit machines\n",
    "print('Number of R users still use 32 bit machines:%s'%(nineque.count()))\n"
   ]
  },
  {
   "cell_type": "code",
   "execution_count": 25,
   "metadata": {},
   "outputs": [
    {
     "name": "stdout",
     "output_type": "stream",
     "text": [
      "Total number of incomplete records:468436\n"
     ]
    }
   ],
   "source": [
    "#10)List total number of incomplete records - lines which have missing values.\n",
    "\n",
    "def tenfunc(x):\n",
    "    return \"NA\" in x\n",
    "tenque=downloads_RDD.filter(tenfunc) #accessing function for NA values\n",
    "print('Total number of incomplete records:%s'%(tenque.count()))\n",
    "\n",
    "\n",
    "\n"
   ]
  }
 ],
 "metadata": {
  "kernelspec": {
   "display_name": "Python 3",
   "language": "python",
   "name": "python3"
  },
  "language_info": {
   "codemirror_mode": {
    "name": "ipython",
    "version": 3
   },
   "file_extension": ".py",
   "mimetype": "text/x-python",
   "name": "python",
   "nbconvert_exporter": "python",
   "pygments_lexer": "ipython3",
   "version": "3.5.2"
  }
 },
 "nbformat": 4,
 "nbformat_minor": 2
}
